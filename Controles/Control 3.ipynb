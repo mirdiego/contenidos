{
  "nbformat": 4,
  "nbformat_minor": 0,
  "metadata": {
    "colab": {
      "provenance": []
    },
    "kernelspec": {
      "name": "python3",
      "display_name": "Python 3"
    },
    "language_info": {
      "name": "python"
    }
  },
  "cells": [
    {
      "cell_type": "markdown",
      "source": [
        "# Descarga de datos"
      ],
      "metadata": {
        "id": "LrkD-O27_uMb"
      }
    },
    {
      "cell_type": "code",
      "source": [
        "from google.colab import output\n",
        "!pip install gdown\n",
        "!gdown https://drive.google.com/uc?id=1L5kNJEwRRlNtBvXVt4KZB0EiTQk23iaV # pokedex_processed.csv\n",
        "!gdown https://drive.google.com/uc?id=19dw2vVgF6pht_-GF5_IvxrVLOSkT8kCQ # pokedex_processed.json\n",
        "output.clear()"
      ],
      "metadata": {
        "id": "49NvaucrxgAx"
      },
      "execution_count": 2,
      "outputs": []
    },
    {
      "cell_type": "markdown",
      "source": [
        "# Datos\n",
        "\n",
        "Los datos corresponden al mundo de _Pokémon_ separado en dos bases de datos: Una relacional SQL (PostgreSQL) y otra de documentos NoSQL (MongoDB). Ambas son levantadas dentro del entorno de ejecución del notebook en Google Colab.\n",
        "\n",
        "A continuación se crea y describe a cada una:"
      ],
      "metadata": {
        "id": "91HdJj2_njyA"
      }
    },
    {
      "cell_type": "markdown",
      "source": [
        "# PostgreSQL\n",
        "\n",
        "Cada columna de la tabla de pokedex se describe a continuación:\n",
        "\n",
        "```text\n",
        "###################\n",
        "## Tabla pokedex ##\n",
        "###################\n",
        "\n",
        "Id           : (int) Identificador único en el Pokédex\n",
        "Name         : (str) Nombre del Pokémon\n",
        "Category     : (str) La \"especie\" del Pokémon (en Pokémon Sol y Luna)\n",
        "Height (m)   : (int) Altura en metros\n",
        "Weight (kg)  : (int) Masa en kilogramos\n",
        "Capture Rate : (int) Cuantifica la probabilidad de capturar al Pokémon (a mayor valor, más probable).\n",
        "Egg Steps    : (int) Cuantifica el número de pasos que requiere en el juego para salir de un huevo.\n",
        "Exp Group    : (str) Categoría que determina cuanta experiencia necesita para subir de nivel.\n",
        "HP           : (int) Vida\n",
        "Attack       : (int) Ataque\n",
        "Defense      : (int) Defensa\n",
        "Sp. Attack   : (int) Ataque Especial\n",
        "Sp. Defense  : (int) Defensa Especial\n",
        "Speed        : (int) Velocidad\n",
        "\n",
        "```"
      ],
      "metadata": {
        "id": "rzyH3vy1vmAr"
      }
    },
    {
      "cell_type": "code",
      "execution_count": 3,
      "metadata": {
        "id": "Gy0QSzg_nLyx"
      },
      "outputs": [],
      "source": [
        "# install\n",
        "!apt update\n",
        "!apt install postgresql postgresql-contrib &>log\n",
        "!service postgresql start\n",
        "!sudo -u postgres psql -c \"CREATE USER root WITH SUPERUSER\"\n",
        "# pin package versions for google colab compatibility\n",
        "!pip install SQLAlchemy==1.4.46\n",
        "!pip install ipython-sql==0.4.1\n",
        "# set connection\n",
        "%load_ext sql\n",
        "%config SqlMagic.feedback=False\n",
        "%config SqlMagic.autopandas=True\n",
        "%config SqlMagic.displaycon = False\n",
        "%sql postgresql+psycopg2://@/postgres\n",
        "output.clear()"
      ]
    },
    {
      "cell_type": "code",
      "source": [
        "import pandas as pd\n",
        "from sqlalchemy import create_engine\n",
        "engine = create_engine(\"postgresql+psycopg2://@/postgres\", echo=False)\n",
        "df_pokedex = pd.read_csv(\"pokedex_processed.csv\", index_col=False)\n",
        "df_pokedex.to_sql(\"pokedex\", con=engine, if_exists=\"replace\", index=False)"
      ],
      "metadata": {
        "id": "5vJcpsIhT3NL",
        "colab": {
          "base_uri": "https://localhost:8080/"
        },
        "outputId": "99cd2ac1-eef0-423d-fd4b-2694f01973b0"
      },
      "execution_count": 4,
      "outputs": [
        {
          "output_type": "execute_result",
          "data": {
            "text/plain": [
              "809"
            ]
          },
          "metadata": {},
          "execution_count": 4
        }
      ]
    },
    {
      "cell_type": "code",
      "source": [
        "%%sql\n",
        "SELECT *\n",
        "FROM pokedex\n",
        "LIMIT 10"
      ],
      "metadata": {
        "colab": {
          "base_uri": "https://localhost:8080/",
          "height": 635
        },
        "id": "L_3X_BE4Rr0q",
        "outputId": "50f1f67c-8a16-467e-ccb1-837f008f5738"
      },
      "execution_count": 5,
      "outputs": [
        {
          "output_type": "execute_result",
          "data": {
            "text/plain": [
              "   Id        Name             Category  Height (m)  Weight (kg)  Capture Rate  \\\n",
              "0   1   Bulbasaur         Seed Pokémon         0.7          6.9            45   \n",
              "1   2     Ivysaur         Seed Pokémon         1.0         13.0            45   \n",
              "2   3    Venusaur         Seed Pokémon         2.0        100.0            45   \n",
              "3   4  Charmander       Lizard Pokémon         0.6          8.5            45   \n",
              "4   5  Charmeleon        Flame Pokémon         1.1         19.0            45   \n",
              "5   6   Charizard        Flame Pokémon         1.7         90.5            45   \n",
              "6   7    Squirtle  Tiny Turtle Pokémon         0.5          9.0            45   \n",
              "7   8   Wartortle       Turtle Pokémon         1.0         22.5            45   \n",
              "8   9   Blastoise    Shellfish Pokémon         1.6         85.5            45   \n",
              "9  10    Caterpie         Worm Pokémon         0.3          2.9           255   \n",
              "\n",
              "   Egg Steps    Exp Group  HP  Attack  Defense  Sp. Attack  Sp. Defense  Speed  \n",
              "0       5120  Medium Slow  45      49       49          65           65     45  \n",
              "1       5120  Medium Slow  60      62       63          80           80     60  \n",
              "2       5120  Medium Slow  80      82       83         100          100     80  \n",
              "3       5120  Medium Slow  39      52       43          60           50     65  \n",
              "4       5120  Medium Slow  58      64       58          80           65     80  \n",
              "5       5120  Medium Slow  78      84       78         109           85    100  \n",
              "6       5120  Medium Slow  44      48       65          50           64     43  \n",
              "7       5120  Medium Slow  59      63       80          65           80     58  \n",
              "8       5120  Medium Slow  79      83      100          85          105     78  \n",
              "9       3840  Medium Fast  45      30       35          20           20     45  "
            ],
            "text/html": [
              "\n",
              "  <div id=\"df-00a81b4a-069a-43fa-80f5-020e1d6eeadb\">\n",
              "    <div class=\"colab-df-container\">\n",
              "      <div>\n",
              "<style scoped>\n",
              "    .dataframe tbody tr th:only-of-type {\n",
              "        vertical-align: middle;\n",
              "    }\n",
              "\n",
              "    .dataframe tbody tr th {\n",
              "        vertical-align: top;\n",
              "    }\n",
              "\n",
              "    .dataframe thead th {\n",
              "        text-align: right;\n",
              "    }\n",
              "</style>\n",
              "<table border=\"1\" class=\"dataframe\">\n",
              "  <thead>\n",
              "    <tr style=\"text-align: right;\">\n",
              "      <th></th>\n",
              "      <th>Id</th>\n",
              "      <th>Name</th>\n",
              "      <th>Category</th>\n",
              "      <th>Height (m)</th>\n",
              "      <th>Weight (kg)</th>\n",
              "      <th>Capture Rate</th>\n",
              "      <th>Egg Steps</th>\n",
              "      <th>Exp Group</th>\n",
              "      <th>HP</th>\n",
              "      <th>Attack</th>\n",
              "      <th>Defense</th>\n",
              "      <th>Sp. Attack</th>\n",
              "      <th>Sp. Defense</th>\n",
              "      <th>Speed</th>\n",
              "    </tr>\n",
              "  </thead>\n",
              "  <tbody>\n",
              "    <tr>\n",
              "      <th>0</th>\n",
              "      <td>1</td>\n",
              "      <td>Bulbasaur</td>\n",
              "      <td>Seed Pokémon</td>\n",
              "      <td>0.7</td>\n",
              "      <td>6.9</td>\n",
              "      <td>45</td>\n",
              "      <td>5120</td>\n",
              "      <td>Medium Slow</td>\n",
              "      <td>45</td>\n",
              "      <td>49</td>\n",
              "      <td>49</td>\n",
              "      <td>65</td>\n",
              "      <td>65</td>\n",
              "      <td>45</td>\n",
              "    </tr>\n",
              "    <tr>\n",
              "      <th>1</th>\n",
              "      <td>2</td>\n",
              "      <td>Ivysaur</td>\n",
              "      <td>Seed Pokémon</td>\n",
              "      <td>1.0</td>\n",
              "      <td>13.0</td>\n",
              "      <td>45</td>\n",
              "      <td>5120</td>\n",
              "      <td>Medium Slow</td>\n",
              "      <td>60</td>\n",
              "      <td>62</td>\n",
              "      <td>63</td>\n",
              "      <td>80</td>\n",
              "      <td>80</td>\n",
              "      <td>60</td>\n",
              "    </tr>\n",
              "    <tr>\n",
              "      <th>2</th>\n",
              "      <td>3</td>\n",
              "      <td>Venusaur</td>\n",
              "      <td>Seed Pokémon</td>\n",
              "      <td>2.0</td>\n",
              "      <td>100.0</td>\n",
              "      <td>45</td>\n",
              "      <td>5120</td>\n",
              "      <td>Medium Slow</td>\n",
              "      <td>80</td>\n",
              "      <td>82</td>\n",
              "      <td>83</td>\n",
              "      <td>100</td>\n",
              "      <td>100</td>\n",
              "      <td>80</td>\n",
              "    </tr>\n",
              "    <tr>\n",
              "      <th>3</th>\n",
              "      <td>4</td>\n",
              "      <td>Charmander</td>\n",
              "      <td>Lizard Pokémon</td>\n",
              "      <td>0.6</td>\n",
              "      <td>8.5</td>\n",
              "      <td>45</td>\n",
              "      <td>5120</td>\n",
              "      <td>Medium Slow</td>\n",
              "      <td>39</td>\n",
              "      <td>52</td>\n",
              "      <td>43</td>\n",
              "      <td>60</td>\n",
              "      <td>50</td>\n",
              "      <td>65</td>\n",
              "    </tr>\n",
              "    <tr>\n",
              "      <th>4</th>\n",
              "      <td>5</td>\n",
              "      <td>Charmeleon</td>\n",
              "      <td>Flame Pokémon</td>\n",
              "      <td>1.1</td>\n",
              "      <td>19.0</td>\n",
              "      <td>45</td>\n",
              "      <td>5120</td>\n",
              "      <td>Medium Slow</td>\n",
              "      <td>58</td>\n",
              "      <td>64</td>\n",
              "      <td>58</td>\n",
              "      <td>80</td>\n",
              "      <td>65</td>\n",
              "      <td>80</td>\n",
              "    </tr>\n",
              "    <tr>\n",
              "      <th>5</th>\n",
              "      <td>6</td>\n",
              "      <td>Charizard</td>\n",
              "      <td>Flame Pokémon</td>\n",
              "      <td>1.7</td>\n",
              "      <td>90.5</td>\n",
              "      <td>45</td>\n",
              "      <td>5120</td>\n",
              "      <td>Medium Slow</td>\n",
              "      <td>78</td>\n",
              "      <td>84</td>\n",
              "      <td>78</td>\n",
              "      <td>109</td>\n",
              "      <td>85</td>\n",
              "      <td>100</td>\n",
              "    </tr>\n",
              "    <tr>\n",
              "      <th>6</th>\n",
              "      <td>7</td>\n",
              "      <td>Squirtle</td>\n",
              "      <td>Tiny Turtle Pokémon</td>\n",
              "      <td>0.5</td>\n",
              "      <td>9.0</td>\n",
              "      <td>45</td>\n",
              "      <td>5120</td>\n",
              "      <td>Medium Slow</td>\n",
              "      <td>44</td>\n",
              "      <td>48</td>\n",
              "      <td>65</td>\n",
              "      <td>50</td>\n",
              "      <td>64</td>\n",
              "      <td>43</td>\n",
              "    </tr>\n",
              "    <tr>\n",
              "      <th>7</th>\n",
              "      <td>8</td>\n",
              "      <td>Wartortle</td>\n",
              "      <td>Turtle Pokémon</td>\n",
              "      <td>1.0</td>\n",
              "      <td>22.5</td>\n",
              "      <td>45</td>\n",
              "      <td>5120</td>\n",
              "      <td>Medium Slow</td>\n",
              "      <td>59</td>\n",
              "      <td>63</td>\n",
              "      <td>80</td>\n",
              "      <td>65</td>\n",
              "      <td>80</td>\n",
              "      <td>58</td>\n",
              "    </tr>\n",
              "    <tr>\n",
              "      <th>8</th>\n",
              "      <td>9</td>\n",
              "      <td>Blastoise</td>\n",
              "      <td>Shellfish Pokémon</td>\n",
              "      <td>1.6</td>\n",
              "      <td>85.5</td>\n",
              "      <td>45</td>\n",
              "      <td>5120</td>\n",
              "      <td>Medium Slow</td>\n",
              "      <td>79</td>\n",
              "      <td>83</td>\n",
              "      <td>100</td>\n",
              "      <td>85</td>\n",
              "      <td>105</td>\n",
              "      <td>78</td>\n",
              "    </tr>\n",
              "    <tr>\n",
              "      <th>9</th>\n",
              "      <td>10</td>\n",
              "      <td>Caterpie</td>\n",
              "      <td>Worm Pokémon</td>\n",
              "      <td>0.3</td>\n",
              "      <td>2.9</td>\n",
              "      <td>255</td>\n",
              "      <td>3840</td>\n",
              "      <td>Medium Fast</td>\n",
              "      <td>45</td>\n",
              "      <td>30</td>\n",
              "      <td>35</td>\n",
              "      <td>20</td>\n",
              "      <td>20</td>\n",
              "      <td>45</td>\n",
              "    </tr>\n",
              "  </tbody>\n",
              "</table>\n",
              "</div>\n",
              "      <button class=\"colab-df-convert\" onclick=\"convertToInteractive('df-00a81b4a-069a-43fa-80f5-020e1d6eeadb')\"\n",
              "              title=\"Convert this dataframe to an interactive table.\"\n",
              "              style=\"display:none;\">\n",
              "        \n",
              "  <svg xmlns=\"http://www.w3.org/2000/svg\" height=\"24px\"viewBox=\"0 0 24 24\"\n",
              "       width=\"24px\">\n",
              "    <path d=\"M0 0h24v24H0V0z\" fill=\"none\"/>\n",
              "    <path d=\"M18.56 5.44l.94 2.06.94-2.06 2.06-.94-2.06-.94-.94-2.06-.94 2.06-2.06.94zm-11 1L8.5 8.5l.94-2.06 2.06-.94-2.06-.94L8.5 2.5l-.94 2.06-2.06.94zm10 10l.94 2.06.94-2.06 2.06-.94-2.06-.94-.94-2.06-.94 2.06-2.06.94z\"/><path d=\"M17.41 7.96l-1.37-1.37c-.4-.4-.92-.59-1.43-.59-.52 0-1.04.2-1.43.59L10.3 9.45l-7.72 7.72c-.78.78-.78 2.05 0 2.83L4 21.41c.39.39.9.59 1.41.59.51 0 1.02-.2 1.41-.59l7.78-7.78 2.81-2.81c.8-.78.8-2.07 0-2.86zM5.41 20L4 18.59l7.72-7.72 1.47 1.35L5.41 20z\"/>\n",
              "  </svg>\n",
              "      </button>\n",
              "      \n",
              "  <style>\n",
              "    .colab-df-container {\n",
              "      display:flex;\n",
              "      flex-wrap:wrap;\n",
              "      gap: 12px;\n",
              "    }\n",
              "\n",
              "    .colab-df-convert {\n",
              "      background-color: #E8F0FE;\n",
              "      border: none;\n",
              "      border-radius: 50%;\n",
              "      cursor: pointer;\n",
              "      display: none;\n",
              "      fill: #1967D2;\n",
              "      height: 32px;\n",
              "      padding: 0 0 0 0;\n",
              "      width: 32px;\n",
              "    }\n",
              "\n",
              "    .colab-df-convert:hover {\n",
              "      background-color: #E2EBFA;\n",
              "      box-shadow: 0px 1px 2px rgba(60, 64, 67, 0.3), 0px 1px 3px 1px rgba(60, 64, 67, 0.15);\n",
              "      fill: #174EA6;\n",
              "    }\n",
              "\n",
              "    [theme=dark] .colab-df-convert {\n",
              "      background-color: #3B4455;\n",
              "      fill: #D2E3FC;\n",
              "    }\n",
              "\n",
              "    [theme=dark] .colab-df-convert:hover {\n",
              "      background-color: #434B5C;\n",
              "      box-shadow: 0px 1px 3px 1px rgba(0, 0, 0, 0.15);\n",
              "      filter: drop-shadow(0px 1px 2px rgba(0, 0, 0, 0.3));\n",
              "      fill: #FFFFFF;\n",
              "    }\n",
              "  </style>\n",
              "\n",
              "      <script>\n",
              "        const buttonEl =\n",
              "          document.querySelector('#df-00a81b4a-069a-43fa-80f5-020e1d6eeadb button.colab-df-convert');\n",
              "        buttonEl.style.display =\n",
              "          google.colab.kernel.accessAllowed ? 'block' : 'none';\n",
              "\n",
              "        async function convertToInteractive(key) {\n",
              "          const element = document.querySelector('#df-00a81b4a-069a-43fa-80f5-020e1d6eeadb');\n",
              "          const dataTable =\n",
              "            await google.colab.kernel.invokeFunction('convertToInteractive',\n",
              "                                                     [key], {});\n",
              "          if (!dataTable) return;\n",
              "\n",
              "          const docLinkHtml = 'Like what you see? Visit the ' +\n",
              "            '<a target=\"_blank\" href=https://colab.research.google.com/notebooks/data_table.ipynb>data table notebook</a>'\n",
              "            + ' to learn more about interactive tables.';\n",
              "          element.innerHTML = '';\n",
              "          dataTable['output_type'] = 'display_data';\n",
              "          await google.colab.output.renderOutput(dataTable, element);\n",
              "          const docLink = document.createElement('div');\n",
              "          docLink.innerHTML = docLinkHtml;\n",
              "          element.appendChild(docLink);\n",
              "        }\n",
              "      </script>\n",
              "    </div>\n",
              "  </div>\n",
              "  "
            ]
          },
          "metadata": {},
          "execution_count": 5
        }
      ]
    },
    {
      "cell_type": "markdown",
      "source": [
        "## MongoDB\n",
        "\n",
        "La colección pokedex tiene documentos con 4 entradas: Un identificador único del pokémon y arreglos con información acerca del mismo. A continuación se detalla cada uno:\n",
        "\n",
        "```text\n",
        "#######################\n",
        "## Colección pokedex ##\n",
        "#######################\n",
        "\n",
        "\"pokemon_id\": : (int)       Número identificador único en el Pokédex\n",
        "\"abilities\"   : (List[str]) Lista de las habilidades del Pokémon\n",
        "\"moves\"       : (List[str]) Lista de los movimientos del Pokémon\n",
        "\"types\"       : (List[str]) Lista de los tipos del Pokémon\n",
        "```"
      ],
      "metadata": {
        "id": "2eJi_0kxYgZ5"
      }
    },
    {
      "cell_type": "code",
      "source": [
        "!apt install mongodb\n",
        "!service mongodb start\n",
        "!pip install pymongo\n",
        "!mongoimport --db local --collection pokedex --jsonArray < 'pokedex_processed.json'\n",
        "output.clear()"
      ],
      "metadata": {
        "id": "t1x82tUDbzFP"
      },
      "execution_count": 6,
      "outputs": []
    },
    {
      "cell_type": "code",
      "source": [
        "from pymongo import MongoClient\n",
        "client = MongoClient()\n",
        "client.list_database_names() # ['admin', 'local']\n",
        "db = client['local']\n",
        "collection = db['pokedex']"
      ],
      "metadata": {
        "id": "nsfUhP4tdbjG"
      },
      "execution_count": 7,
      "outputs": []
    },
    {
      "cell_type": "markdown",
      "source": [
        "Para tener una idea de cómo se ven los datos en la colección, aquí les dejamos impresión del primer Pokemon en la colección:"
      ],
      "metadata": {
        "id": "NVePaOEVbVXN"
      }
    },
    {
      "cell_type": "code",
      "source": [
        "import pprint\n",
        "for pokemon in collection.find({}).limit(1):\n",
        "    pprint.pprint(pokemon)"
      ],
      "metadata": {
        "id": "hbvueZMVva62",
        "colab": {
          "base_uri": "https://localhost:8080/"
        },
        "outputId": "0f45120d-71e9-4a07-d472-6d29ad401f6e"
      },
      "execution_count": 8,
      "outputs": [
        {
          "output_type": "stream",
          "name": "stdout",
          "text": [
            "{'_id': ObjectId('648d3d0ed6e1e8dd70fdd03d'),\n",
            " 'abilities': ['Overgrow', 'Chlorophyll'],\n",
            " 'moves': ['Tackle is described as A physical attack in which the user charges '\n",
            "           'and slams into the target with its whole body.',\n",
            "           'Growl is described as The user growls in an endearing way, making '\n",
            "           'opposing Pokémon less wary. This lowers their Attack stat.',\n",
            "           'Vine Whip is described as The target is struck with slender, '\n",
            "           'whiplike vines to inflict damage.',\n",
            "           'Poison Powder is described as The user scatters a cloud of '\n",
            "           'poisonous dust that poisons the target.',\n",
            "           'Sleep Powder is described as The user scatters a big cloud of '\n",
            "           'sleep-inducing dust around the target.',\n",
            "           'Take Down is described as A reckless, full-body charge attack for '\n",
            "           'slamming into the target. This also damages the user a little.',\n",
            "           'Razor Leaf is described as Sharp-edged leaves are launched to '\n",
            "           'slash at the opposing Pokémon. Critical hits land more easily.',\n",
            "           'Sweet Scent is described as A sweet scent that harshly lowers '\n",
            "           \"opposing Pokémon's evasiveness.\",\n",
            "           \"Growth is described as The user's body grows all at once, raising \"\n",
            "           'the Attack and Sp. Atk stats.',\n",
            "           'Double-Edge is described as A reckless, life-risking tackle. This '\n",
            "           'also damages the user quite a lot.',\n",
            "           'Worry Seed is described as A seed that causes worry is planted on '\n",
            "           \"the target. It prevents sleep by making the target's Ability \"\n",
            "           'Insomnia.',\n",
            "           'Synthesis is described as The user restores its own HP. The amount '\n",
            "           'of HP regained varies with the weather.',\n",
            "           'Seed Bomb is described as The user slams a barrage of hard-shelled '\n",
            "           'seeds down on the target from above.'],\n",
            " 'pokemon_id': 1,\n",
            " 'types': ['Grass', 'Poison']}\n"
          ]
        }
      ]
    },
    {
      "cell_type": "markdown",
      "source": [
        "# Preguntas\n",
        "\n",
        "Para resolver estas preguntas será necesario que consultes a `PostgreSQL` y/o `MongoDB`.\n",
        "\n",
        "En este `notebook` puedes almacenar el resultado de una consulta `PostgreSQL` en una variable como un `pandas.DataFrame` de la siguiente forma:\n",
        "\n",
        "```python\n",
        "df = %sql SELECT \"Name\" FROM pokedex WHERE \"Id\" = 99;\n",
        "```"
      ],
      "metadata": {
        "id": "oT0-dqCCqset"
      }
    },
    {
      "cell_type": "markdown",
      "source": [
        "## Pregunta 1\n",
        "Entregue el nombre (name) y la cantidad de habilidades (abilites) de los 10 pokemones más pesados en kilogramos"
      ],
      "metadata": {
        "id": "bhpyZHJkqpU-"
      }
    },
    {
      "cell_type": "code",
      "source": [
        "df = %sql SELECT \"Name\", \"Id\" FROM pokedex ORDER BY \"Weight (kg)\" DESC LIMIT 10;\n",
        "\n",
        "pokemon_dict = df.to_dict(orient= 'records')\n",
        "print('Nombre', 'Cantidad de habilidades')\n",
        "for pokemon in pokemon_dict:\n",
        "    pokemon_id = pokemon[\"Id\"]\n",
        "    nombre = pokemon[\"Name\"]\n",
        "    for pokemon in collection.find({\"pokemon_id\": pokemon_id}):\n",
        "      habilidades= (pokemon[\"abilities\"])\n",
        "    print(nombre, len(habilidades))\n",
        "    habilidades_count = collection.count_documents({'pokemon_id': pokemon_id, 'abilities': {'$exists': True}})\n",
        "    pokemon['Habilidades'] = habilidades_count\n",
        "#for pokemon in collection.find('pokemon_id' in df):\n",
        "  #pprint.pprint(pokemon['abilities'])"
      ],
      "metadata": {
        "id": "E8jIPueoqqb-",
        "colab": {
          "base_uri": "https://localhost:8080/"
        },
        "outputId": "d6b5a811-ddab-4dec-b728-e964847c3bc9"
      },
      "execution_count": 9,
      "outputs": [
        {
          "output_type": "stream",
          "name": "stdout",
          "text": [
            "Nombre Cantidad de habilidades\n",
            "Cosmoem 1\n",
            "Celesteela 1\n",
            "Groudon 1\n",
            "Mudsdale 3\n",
            "Guzzlord 1\n",
            "Stakataka 1\n",
            "Melmetal 1\n",
            "Giratina 3\n",
            "Dialga 2\n",
            "Metagross 2\n"
          ]
        }
      ]
    },
    {
      "cell_type": "markdown",
      "source": [
        "## Pregunta 2\n",
        "\n",
        "Nombre los 3 pokemones con más movimientos. Se recomienda revisar la documentación de MongoDB, particularmente de [`$sort`](https://www.mongodb.com/docs/manual/reference/operator/aggregation/sort/) y [`$limit`](https://www.mongodb.com/docs/manual/reference/operator/aggregation/limit/)."
      ],
      "metadata": {
        "id": "kkCvJbF7quNQ"
      }
    },
    {
      "cell_type": "code",
      "source": [
        "ids_vistos = set()\n",
        "resultado = collection.find({}, {\"pokemon_id\": 1, \"moves\": 1}).sort([(\"moves\", -1)]).limit(3)\n",
        "lista_id = []\n",
        "for pokemon in resultado:\n",
        "    pokemon_id = pokemon[\"pokemon_id\"]\n",
        "    if pokemon_id not in ids_vistos:\n",
        "      moves_count = len(pokemon[\"moves\"])\n",
        "      ids_vistos.add(pokemon_id)\n",
        "      lista_id.append(pokemon_id)\n",
        "query = \"\"\"\n",
        "SELECT \"Name\"\n",
        "FROM pokedex\n",
        "WHERE \"Id\" IN ({})\n",
        "\"\"\".format(', '.join(str(id) for id in lista_id))\n",
        "\n",
        "df = %sql $query\n",
        "print(df)\n"
      ],
      "metadata": {
        "id": "6dDaoE1HqvFC",
        "colab": {
          "base_uri": "https://localhost:8080/"
        },
        "outputId": "d89a13e6-0e9c-4fc1-c38c-94bcb41f5ed7"
      },
      "execution_count": 25,
      "outputs": [
        {
          "output_type": "stream",
          "name": "stdout",
          "text": [
            "         Name\n",
            "0     Venonat\n",
            "1    Venomoth\n",
            "2  Togedemaru\n"
          ]
        }
      ]
    },
    {
      "cell_type": "markdown",
      "source": [
        "## Pregunta 3\n",
        "\n",
        "Cuál es el elemento de los pokemones más densos? Indique los 5 elementos de pokemones más densos. Asuma que la densidad es el peso dividido en la altura, y que los pokemones tienen un solo tipo (ignore todos los elementos de cada pokemon excepto uno)."
      ],
      "metadata": {
        "id": "byZJFhmOyUDf"
      }
    },
    {
      "cell_type": "markdown",
      "source": [
        "ser muestran los tipos de los 5 pokemones más densos\n"
      ],
      "metadata": {
        "id": "UTT64bEU9Uru"
      }
    },
    {
      "cell_type": "code",
      "source": [
        "query = \"\"\"\n",
        "SELECT \"Name\", \"Id\", \"Weight (kg)\" / \"Height (m)\" AS density\n",
        "FROM pokedex\n",
        "ORDER BY density DESC\n",
        "LIMIT 5\n",
        "\"\"\"\n",
        "df = %sql $query\n",
        "densidad_dict = df.to_dict(orient= 'records')\n",
        "\n",
        "for pokemon in densidad_dict:\n",
        "    id = pokemon['Id']\n",
        "    resultado = collection.find_one({'pokemon_id': id})\n",
        "    # Verificar si se encontró el Pokémon en la base de datos de MongoDB\n",
        "    if resultado:\n",
        "        # Obtener los atributos deseados del resultado de la consulta\n",
        "        tipo = resultado['types']\n",
        "        name = pokemon['Name']\n",
        "        # Imprimir los datos del Pokémon\n",
        "        print('Tipo:', tipo[0])\n"
      ],
      "metadata": {
        "id": "OM8TSVJeyVQE",
        "colab": {
          "base_uri": "https://localhost:8080/"
        },
        "outputId": "0342b13a-6840-46ff-d1cc-10eb306a9117"
      },
      "execution_count": 11,
      "outputs": [
        {
          "output_type": "stream",
          "name": "stdout",
          "text": [
            "Tipo: Psychic\n",
            "Tipo: Ground\n",
            "Tipo: Steel\n",
            "Tipo: Steel\n",
            "Tipo: Ground\n"
          ]
        }
      ]
    },
    {
      "cell_type": "markdown",
      "source": [
        "## Pregunta 4\n",
        "\n",
        "Vea si existe alguna correlación entre algún atributo (ataque, defensa, ataque especial, defensa especial, velocidad y HP) y la cantidad de movimientos que tienen los pokemones.\n",
        "\n",
        "Hay algun otro par de variables (de las mencionadas anteriormente) que tengan mayor correlación entre sí? Indique el par de atributos que tengan la mayor correlación entre sí y haga un gráfico de dispersión para visualizar la correlación."
      ],
      "metadata": {
        "id": "2SrvuCWlyYwG"
      }
    },
    {
      "cell_type": "code",
      "source": [
        "df = %sql SELECT \"Name\", \"Id\", \"HP\" FROM pokedex;\n",
        "ids_vistos = set()\n",
        "resultado = collection.find({}, {\"pokemon_id\": 1, \"moves\": 1}).sort([(\"moves\", -1)])\n",
        "\n",
        "diccionario_movimientos = {}\n",
        "\n",
        "for pokemon in resultado:\n",
        "    pokemon_id = pokemon[\"pokemon_id\"]\n",
        "    if pokemon_id not in ids_vistos:\n",
        "        moves_count = len(pokemon[\"moves\"])\n",
        "        ids_vistos.add(pokemon_id)\n",
        "        diccionario_movimientos[pokemon_id] = moves_count\n",
        "\n",
        "print(diccionario_movimientos)\n",
        "\n",
        "# Crea una nueva columna en el DataFrame utilizando el diccionario de movimientos\n",
        "df['Num_Movimientos'] = df['Id'].map(diccionario_movimientos)\n",
        "# Reordena las columnas según tus preferencias\n",
        "primeras_cinco_lineas = df.head(5)\n",
        "print(primeras_cinco_lineas)\n",
        "correlation = df[[\"HP\", \"Num_Movimientos\"]].corr()\n",
        "print(correlation)\n",
        "\n"
      ],
      "metadata": {
        "id": "kBimnR_hE1xy",
        "colab": {
          "base_uri": "https://localhost:8080/"
        },
        "outputId": "06f13cce-6a75-4217-b67f-6af930e8ff61"
      },
      "execution_count": 41,
      "outputs": [
        {
          "output_type": "stream",
          "name": "stdout",
          "text": [
            "{777: 15, 48: 14, 49: 18, 54: 16, 55: 18, 79: 16, 80: 17, 96: 16, 97: 18, 128: 14, 163: 18, 164: 19, 199: 18, 203: 17, 234: 15, 241: 13, 270: 13, 271: 13, 302: 20, 308: 21, 313: 16, 314: 16, 325: 15, 326: 17, 340: 19, 372: 14, 373: 18, 375: 14, 376: 15, 380: 19, 381: 19, 385: 15, 386: 14, 371: 13, 408: 12, 409: 13, 486: 14, 494: 17, 517: 17, 605: 18, 606: 19, 644: 15, 720: 19, 765: 15, 787: 18, 791: 17, 81: 18, 82: 20, 137: 15, 145: 16, 181: 21, 205: 20, 233: 16, 299: 16, 377: 14, 378: 14, 379: 16, 462: 23, 474: 17, 476: 21, 599: 15, 600: 15, 601: 17, 603: 15, 604: 10, 649: 20, 738: 15, 796: 18, 143: 17, 175: 15, 176: 17, 194: 13, 195: 13, 206: 21, 218: 16, 219: 17, 230: 13, 261: 16, 262: 21, 287: 11, 289: 14, 316: 16, 317: 18, 322: 15, 323: 16, 358: 15, 369: 14, 399: 14, 400: 17, 433: 8, 449: 11, 450: 14, 480: 12, 513: 16, 616: 15, 734: 16, 735: 16, 775: 13, 47: 13, 46: 12, 123: 18, 127: 16, 207: 15, 212: 18, 253: 16, 254: 18, 291: 15, 335: 16, 347: 15, 348: 14, 402: 15, 472: 18, 542: 14, 557: 15, 558: 14, 588: 15, 589: 17, 632: 15, 736: 10, 737: 13, 754: 13, 772: 18, 773: 26, 798: 19, 69: 14, 70: 14, 72: 17, 73: 18, 108: 15, 114: 19, 124: 16, 140: 12, 141: 15, 224: 16, 336: 20, 345: 15, 346: 15, 455: 14, 463: 16, 465: 20, 496: 15, 495: 15, 497: 15, 592: 14, 593: 14, 799: 19, 800: 18, 24: 21, 23: 17, 147: 14, 148: 14, 149: 19, 213: 19, 350: 17, 764: 19, 781: 18, 1: 13, 2: 14, 3: 16, 102: 15, 187: 19, 188: 19, 191: 16, 192: 19, 189: 19, 285: 13, 406: 6, 420: 12, 421: 13, 492: 12, 672: 16, 673: 18, 711: 15, 710: 13, 448: 20, 504: 17, 507: 14, 506: 15, 508: 17, 554: 16, 555: 17, 633: 16, 634: 16, 635: 16, 638: 14, 639: 14, 640: 14, 647: 14, 667: 15, 668: 16, 674: 14, 675: 18, 782: 14, 783: 16, 784: 18, 103: 9, 185: 18, 389: 14, 459: 12, 460: 13, 650: 13, 651: 14, 652: 20, 708: 14, 709: 15, 778: 16, 338: 17, 577: 16, 578: 16, 579: 17, 793: 19, 7: 14, 8: 14, 9: 15, 90: 17, 91: 10, 138: 14, 139: 15, 324: 18, 387: 12, 388: 12, 564: 18, 565: 18, 688: 16, 689: 18, 785: 18, 786: 18, 788: 18, 177: 16, 178: 18, 282: 20, 594: 19, 669: 14, 670: 14, 671: 12, 684: 16, 685: 16, 6: 18, 16: 14, 17: 14, 18: 14, 41: 15, 42: 16, 142: 17, 146: 16, 169: 17, 198: 15, 193: 16, 226: 19, 276: 13, 277: 14, 278: 14, 279: 19, 396: 12, 397: 12, 398: 13, 430: 11, 458: 15, 566: 18, 567: 18, 580: 15, 581: 15, 627: 16, 628: 17, 701: 17, 714: 16, 715: 19, 37: 20, 353: 16, 354: 16, 355: 15, 356: 21, 477: 21, 478: 16, 562: 15, 563: 16, 607: 17, 608: 17, 653: 16, 654: 16, 655: 21, 25: 18, 309: 14, 310: 16, 403: 13, 404: 12, 405: 13, 522: 13, 523: 14, 807: 16, 68: 19, 99: 16, 106: 17, 122: 24, 237: 16, 475: 20, 538: 16, 620: 16, 747: 13, 748: 14, 752: 15, 792: 17, 797: 19, 805: 13, 12: 16, 249: 16, 250: 16, 267: 13, 269: 13, 275: 7, 284: 14, 296: 17, 297: 18, 357: 16, 561: 17, 629: 16, 630: 17, 637: 17, 258: 13, 320: 16, 321: 18, 366: 5, 367: 15, 368: 15, 393: 13, 394: 14, 395: 15, 418: 14, 419: 16, 456: 14, 457: 14, 490: 13, 489: 11, 351: 13, 407: 7, 584: 17, 721: 14, 118: 14, 119: 15, 382: 14, 60: 13, 61: 13, 86: 17, 183: 16, 184: 16, 283: 11, 298: 10, 339: 15, 502: 15, 501: 15, 503: 17, 515: 16, 692: 13, 693: 17, 751: 14, 771: 17, 617: 16, 658: 19, 131: 15, 134: 15, 223: 13, 370: 17, 422: 10, 423: 10, 484: 12, 656: 14, 657: 14, 690: 16, 691: 18, 117: 12, 116: 12, 121: 7, 120: 19, 158: 16, 159: 16, 160: 17, 170: 16, 171: 20, 211: 20, 260: 15, 259: 14, 363: 15, 364: 16, 365: 18, 550: 18, 618: 17, 728: 15, 729: 15, 730: 16, 746: 15, 779: 12, 35: 23, 39: 19, 66: 17, 67: 17, 300: 19, 532: 16, 534: 16, 533: 16, 572: 17, 648: 15, 587: 16, 694: 13, 702: 16, 794: 20, 71: 10, 511: 16, 98: 15, 303: 18, 341: 15, 342: 16, 15: 13, 451: 17, 452: 20, 453: 16, 454: 16, 543: 14, 544: 16, 545: 18, 757: 14, 758: 19, 803: 13, 804: 15, 89: 17, 168: 23, 434: 17, 435: 18, 107: 18, 84: 16, 85: 17, 288: 11, 293: 13, 294: 14, 295: 20, 327: 13, 329: 18, 330: 20, 441: 16, 469: 18, 479: 14, 482: 12, 535: 14, 536: 14, 537: 16, 582: 15, 583: 15, 641: 17, 642: 17, 571: 18, 619: 16, 724: 17, 130: 14, 384: 13, 780: 15, 133: 17, 312: 21, 801: 20, 763: 15, 795: 19, 64: 15, 65: 15, 439: 18, 806: 12, 719: 18, 51: 18, 132: 1, 151: 13, 43: 16, 44: 16, 315: 17, 416: 18, 568: 17, 569: 17, 590: 15, 591: 15, 167: 18, 29: 13, 30: 13, 32: 13, 33: 13, 274: 12, 390: 13, 391: 14, 510: 17, 509: 17, 551: 17, 552: 17, 553: 18, 570: 16, 624: 16, 625: 17, 707: 16, 686: 18, 687: 19, 190: 14, 424: 15, 573: 6, 574: 17, 575: 17, 576: 17, 26: 4, 125: 14, 239: 14, 466: 18, 135: 15, 179: 15, 180: 15, 243: 14, 311: 21, 695: 7, 172: 6, 417: 15, 595: 16, 596: 17, 602: 4, 698: 18, 699: 19, 808: 7, 809: 13, 467: 16, 802: 21, 59: 6, 208: 25, 209: 15, 210: 16, 229: 17, 232: 16, 248: 18, 727: 19, 34: 8, 56: 19, 57: 20, 104: 16, 105: 16, 216: 15, 217: 15, 221: 17, 246: 14, 247: 14, 473: 18, 613: 16, 614: 19, 626: 14, 636: 12, 697: 18, 696: 15, 725: 15, 726: 15, 759: 13, 760: 14, 766: 15, 352: 19, 63: 1, 280: 17, 281: 17, 344: 20, 789: 2, 790: 2, 549: 8, 741: 16, 761: 9, 762: 13, 438: 14, 52: 15, 53: 18, 215: 16, 319: 18, 359: 18, 410: 12, 392: 14, 411: 13, 461: 19, 520: 15, 519: 15, 521: 15, 610: 16, 611: 16, 612: 16, 717: 18, 58: 18, 77: 14, 78: 17, 87: 18, 111: 15, 113: 17, 112: 16, 204: 14, 214: 18, 220: 15, 231: 13, 242: 17, 263: 16, 304: 18, 305: 18, 306: 18, 318: 14, 333: 17, 334: 20, 374: 1, 443: 10, 444: 11, 445: 13, 464: 18, 498: 15, 500: 17, 499: 16, 531: 19, 585: 15, 586: 17, 659: 16, 660: 20, 676: 13, 712: 15, 713: 19, 716: 18, 774: 15, 144: 16, 245: 15, 547: 8, 661: 14, 663: 17, 662: 15, 19: 13, 20: 15, 31: 8, 115: 15, 136: 15, 196: 15, 197: 15, 264: 18, 470: 15, 471: 15, 700: 16, 10: 3, 74: 16, 75: 16, 76: 17, 95: 22, 100: 17, 101: 18, 110: 16, 109: 15, 129: 3, 152: 14, 153: 14, 154: 16, 155: 16, 156: 16, 157: 17, 165: 14, 166: 14, 222: 18, 236: 4, 286: 14, 337: 19, 349: 3, 265: 4, 412: 4, 413: 16, 414: 15, 437: 19, 446: 18, 436: 16, 505: 20, 524: 13, 526: 14, 525: 14, 540: 9, 541: 6, 597: 15, 598: 17, 631: 20, 664: 4, 679: 15, 680: 15, 703: 16, 704: 11, 705: 11, 706: 15, 722: 15, 723: 15, 744: 15, 745: 18, 776: 15, 273: 7, 548: 16, 556: 20, 753: 11, 27: 17, 28: 18, 83: 18, 530: 17, 529: 15, 645: 17, 681: 14, 768: 14, 150: 20, 227: 16, 481: 12, 182: 10, 415: 4, 682: 16, 683: 20, 742: 11, 743: 12, 173: 7, 174: 6, 238: 15, 440: 5, 425: 15, 426: 16, 186: 7, 244: 15, 432: 14, 559: 16, 560: 16, 666: 15, 731: 13, 733: 15, 732: 14, 328: 17, 621: 16, 749: 14, 750: 14, 126: 14, 240: 14, 546: 17, 50: 14, 92: 15, 93: 16, 94: 16, 161: 14, 162: 16, 331: 17, 332: 19, 431: 14, 442: 13, 678: 20, 62: 7, 45: 7, 401: 4, 767: 2, 13: 3, 755: 14, 756: 14, 485: 13, 622: 16, 623: 19, 36: 6, 360: 7, 427: 17, 428: 21, 200: 14, 292: 13, 429: 9, 383: 14, 615: 20, 4: 12, 5: 12, 228: 16, 609: 5, 88: 16, 255: 12, 256: 14, 257: 17, 483: 13, 487: 13, 488: 13, 643: 15, 646: 14, 252: 14, 468: 5, 235: 1, 40: 6, 301: 4, 769: 14, 770: 14, 362: 15, 343: 18, 493: 14, 512: 4, 447: 11, 290: 11, 677: 9, 516: 4, 718: 16, 38: 6, 202: 4, 251: 14, 21: 12, 22: 14, 539: 15, 739: 13, 740: 14, 307: 17, 491: 12, 528: 14, 527: 14, 518: 5, 361: 13, 665: 2, 225: 2, 272: 4, 514: 4, 201: 1, 11: 1, 14: 1, 266: 1, 268: 1}\n",
            "         Name  Id  HP  Num_Movimientos\n",
            "0   Bulbasaur   1  45               13\n",
            "1     Ivysaur   2  60               14\n",
            "2    Venusaur   3  80               16\n",
            "3  Charmander   4  39               12\n",
            "4  Charmeleon   5  58               12\n",
            "                      HP  Num_Movimientos\n",
            "HP               1.00000          0.18065\n",
            "Num_Movimientos  0.18065          1.00000\n"
          ]
        }
      ]
    },
    {
      "cell_type": "markdown",
      "source": [
        "el ataque tiene la mayor relacion con 0.253665"
      ],
      "metadata": {
        "id": "Q1OjZD6m6zdn"
      }
    },
    {
      "cell_type": "markdown",
      "source": [
        "Attack  Num_Movimientos: 0.253665\n",
        "Defense  Num_Movimientos: 0.212476\n",
        "Sp. Attack Num_Movimientos: 0.181285\n",
        "Sp. Defense Num_Movimientos: 0.226473\n",
        "Speed Num_Movimientos:0.125093\n",
        "HP  Num_Movimientos:0.18065"
      ],
      "metadata": {
        "id": "Nce4ou-T5eOt"
      }
    },
    {
      "cell_type": "markdown",
      "source": [
        "Los atributos con mayor correlación son La defensa y la defensa especial."
      ],
      "metadata": {
        "id": "OOKCMGPGI0gV"
      }
    },
    {
      "cell_type": "code",
      "source": [
        "df = %sql SELECT \"Attack\",\t\"Defense\",\t\"Sp. Attack\",\t\"Sp. Defense\",\t\"Speed\", \"HP\" FROM pokedex;\n",
        "correlation_matrix = df.corr()\n",
        "correlation_pairs = correlation_matrix.unstack().sort_values(ascending=False)\n",
        "print(correlation_pairs)\n"
      ],
      "metadata": {
        "id": "FZmGvze__Ytj",
        "colab": {
          "base_uri": "https://localhost:8080/"
        },
        "outputId": "aa1308c4-9f9c-443d-920d-8b68d5121ed8"
      },
      "execution_count": 43,
      "outputs": [
        {
          "output_type": "stream",
          "name": "stdout",
          "text": [
            "Attack       Attack         1.000000\n",
            "Defense      Defense        1.000000\n",
            "Speed        Speed          1.000000\n",
            "Sp. Defense  Sp. Defense    1.000000\n",
            "Sp. Attack   Sp. Attack     1.000000\n",
            "HP           HP             1.000000\n",
            "Defense      Sp. Defense    0.506163\n",
            "Sp. Defense  Defense        0.506163\n",
            "             Sp. Attack     0.481435\n",
            "Sp. Attack   Sp. Defense    0.481435\n",
            "             Speed          0.439785\n",
            "Speed        Sp. Attack     0.439785\n",
            "Defense      Attack         0.439335\n",
            "Attack       Defense        0.439335\n",
            "HP           Attack         0.437478\n",
            "Attack       HP             0.437478\n",
            "Sp. Attack   HP             0.377330\n",
            "HP           Sp. Attack     0.377330\n",
            "Sp. Defense  HP             0.366738\n",
            "HP           Sp. Defense    0.366738\n",
            "Attack       Speed          0.330985\n",
            "Speed        Attack         0.330985\n",
            "Attack       Sp. Attack     0.326032\n",
            "Sp. Attack   Attack         0.326032\n",
            "HP           Defense        0.237430\n",
            "Defense      HP             0.237430\n",
            "Sp. Defense  Speed          0.204384\n",
            "Speed        Sp. Defense    0.204384\n",
            "Attack       Sp. Defense    0.201357\n",
            "Sp. Defense  Attack         0.201357\n",
            "Sp. Attack   Defense        0.199997\n",
            "Defense      Sp. Attack     0.199997\n",
            "Speed        HP             0.166122\n",
            "HP           Speed          0.166122\n",
            "Speed        Defense       -0.026810\n",
            "Defense      Speed         -0.026810\n",
            "dtype: float64\n"
          ]
        }
      ]
    },
    {
      "cell_type": "markdown",
      "source": [
        "## Importante:\n",
        "Para las últimas preguntas será necesario que crees y consultes un índice de texto para el arreglo de strings `moves`."
      ],
      "metadata": {
        "id": "iX3rGsPhx0L9"
      }
    },
    {
      "cell_type": "code",
      "source": [
        "# Aquí escribe el código para crear el índice de texto\n",
        "collection.create_index([(\"moves\", \"text\")])\n"
      ],
      "metadata": {
        "id": "sGsiV5cux195",
        "colab": {
          "base_uri": "https://localhost:8080/",
          "height": 36
        },
        "outputId": "e018aa83-1158-4606-b7b5-b4020bab3b18"
      },
      "execution_count": 12,
      "outputs": [
        {
          "output_type": "execute_result",
          "data": {
            "text/plain": [
              "'moves_text'"
            ],
            "application/vnd.google.colaboratory.intrinsic+json": {
              "type": "string"
            }
          },
          "metadata": {},
          "execution_count": 12
        }
      ]
    },
    {
      "cell_type": "markdown",
      "source": [
        "## Pregunta 5\n",
        "Entregue el nombre de todos los pokemones los cuales en sus movimientos contengan las palabras `fire` y `thunder` y tengan un Ataque Especial (Sp. Attack) entre `110` y `130` (ambos valores incluidos)"
      ],
      "metadata": {
        "id": "RuQdiWyNyarx"
      }
    },
    {
      "cell_type": "code",
      "source": [
        "result = collection.find({\n",
        "    \"$and\": [\n",
        "        {\"moves\": {\"$regex\": \"fire\", \"$options\": \"i\"}},\n",
        "        {\"moves\": {\"$regex\": \"thunder\", \"$options\": \"i\"}}\n",
        "    ]\n",
        "})\n",
        "lista_id = []\n",
        "lista_movimiento =[]\n",
        "for pokemon in result:\n",
        "  lista_id.append(pokemon[\"pokemon_id\"])\n",
        "  lista_movimiento.append([pokemon[\"moves\"]])\n",
        "query = \"\"\"\n",
        "SELECT \"Name\"\n",
        "FROM pokedex\n",
        "WHERE \"Sp. Attack\" >= 110 AND \"Sp. Attack\" <= 130 AND \"Id\" IN ({})\n",
        "\"\"\".format(\", \".join(str(id) for id in lista_id))\n",
        "df = %sql $query\n",
        "print(df)\n"
      ],
      "metadata": {
        "id": "CiYsZtaiybPR",
        "colab": {
          "base_uri": "https://localhost:8080/"
        },
        "outputId": "5eb12768-5936-48ec-d4b1-44aeef454340"
      },
      "execution_count": 13,
      "outputs": [
        {
          "output_type": "stream",
          "name": "stdout",
          "text": [
            "        Name\n",
            "0   Magneton\n",
            "1     Zapdos\n",
            "2   Ampharos\n",
            "3   Houndoom\n",
            "4     Raikou\n",
            "5  Salamence\n",
            "6  Magnezone\n",
            "7  Magmortar\n"
          ]
        }
      ]
    },
    {
      "cell_type": "markdown",
      "source": [
        "## Pregunta 6\n",
        "Entregue el nombre junto con la suma de las estadísticas de combate (HP, Attack, Defense, Sp. Attack, Sp. Defense y Speed) de los pokemones que en sus movimientos contengan las palabras `ice`, `freeze`, `snow` o `cold`, **pero no** las palabras `water` y `wind`. Deben estar ordenado alfabéticamente por su nombre."
      ],
      "metadata": {
        "id": "Xh15tdKwyby1"
      }
    },
    {
      "cell_type": "code",
      "source": [
        "resultado = collection.find({\n",
        "    \"$or\": [\n",
        "        {\"moves\": {\"$regex\": \"ice\", \"$options\": \"i\"}},\n",
        "        {\"moves\": {\"$regex\": \"freeze\", \"$options\": \"i\"}},\n",
        "        {\"moves\": {\"$regex\": \"snow\", \"$options\": \"i\"}},\n",
        "        {\"moves\": {\"$regex\": \"cold\", \"$options\": \"i\"}}\n",
        "    ]\n",
        "})\n",
        "\n",
        "\n",
        "lista_id = []\n",
        "for pokemon in resultado:\n",
        "  lista_id.append(pokemon[\"pokemon_id\"])\n",
        "\n",
        "resultado2 = collection.find({\n",
        "    \"$and\": [\n",
        "    {\"moves\": {\"$regex\": \"water\", \"$options\": \"i\"}},\n",
        "    {\"moves\": {\"$regex\": \"wind\", \"$options\": \"i\"}}]})\n",
        "lista_id2 = []\n",
        "for pokemon in resultado2:\n",
        "  lista_id2.append(pokemon[\"pokemon_id\"])\n",
        "contador = 0\n",
        "i = 0\n",
        "while i <= len(lista_id) - contador:\n",
        "  i += 1\n",
        "  if lista_id[i] in lista_id2:\n",
        "    lista_id.pop(i)\n",
        "    contador += 1\n",
        "query = \"\"\"\n",
        "SELECT DISTINCT \"Name\", \"HP\" + \"Attack\" + \"Defense\" + \"Sp. Attack\" + \"Sp. Defense\" + \"Speed\" AS \"Suma\"\n",
        "FROM pokedex\n",
        "WHERE \"Id\" IN ({})\n",
        "ORDER BY \"Name\" ASC\n",
        "\"\"\".format(\", \".join(str(id) for id in lista_id))\n",
        "\n",
        "df = %sql $query\n",
        "print(df)\n"
      ],
      "metadata": {
        "id": "Uwssos-aycNj",
        "colab": {
          "base_uri": "https://localhost:8080/"
        },
        "outputId": "e3909019-4a7f-405a-dd66-c6d4c004bbcf"
      },
      "execution_count": 20,
      "outputs": [
        {
          "output_type": "stream",
          "name": "stdout",
          "text": [
            "           Name  Suma\n",
            "0     Abomasnow   494\n",
            "1    Aerodactyl   515\n",
            "2         Aipom   360\n",
            "3     Alomomola   470\n",
            "4       Altaria   490\n",
            "..          ...   ...\n",
            "251      Zekrom   680\n",
            "252     Zoroark   510\n",
            "253       Zorua   330\n",
            "254       Zubat   245\n",
            "255    Zweilous   420\n",
            "\n",
            "[256 rows x 2 columns]\n"
          ]
        }
      ]
    }
  ]
}